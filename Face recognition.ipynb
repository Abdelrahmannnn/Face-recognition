{
  "nbformat": 4,
  "nbformat_minor": 0,
  "metadata": {
    "colab": {
      "name": "Lab 2.ipynb",
      "provenance": [],
      "collapsed_sections": []
    },
    "kernelspec": {
      "name": "python3",
      "display_name": "Python 3"
    },
    "language_info": {
      "name": "python"
    }
  },
  "cells": [
    {
      "cell_type": "code",
      "metadata": {
        "id": "g9VW2ckzZC2y"
      },
      "source": [
        "import numpy as np\n",
        "from numpy.linalg import eigh\n",
        "import matplotlib.pyplot as plt\n",
        "from sklearn.neighbors import KNeighborsClassifier\n",
        "import warnings\n",
        "warnings.simplefilter(\"ignore\")\n",
        "from PIL import Image\n",
        "from keras.preprocessing.image import ImageDataGenerator, array_to_img, img_to_array, load_img\n",
        "from sklearn.model_selection import train_test_split"
      ],
      "execution_count": null,
      "outputs": []
    },
    {
      "cell_type": "markdown",
      "metadata": {
        "id": "9BFkembThEn3"
      },
      "source": [
        "##*1 Download the dataset*"
      ]
    },
    {
      "cell_type": "code",
      "metadata": {
        "id": "EkkmwEDvZZeG",
        "colab": {
          "base_uri": "https://localhost:8080/"
        },
        "outputId": "09c1818d-77f9-4b3c-e161-397b558a25a8"
      },
      "source": [
        "!unzip '/content/orl_dataset.zip'"
      ],
      "execution_count": null,
      "outputs": [
        {
          "output_type": "stream",
          "name": "stdout",
          "text": [
            "Archive:  /content/orl_dataset.zip\n",
            "  inflating: README                  \n",
            "  inflating: s1/1.pgm                \n",
            "  inflating: s1/10.pgm               \n",
            "  inflating: s1/2.pgm                \n",
            "  inflating: s1/3.pgm                \n",
            "  inflating: s1/4.pgm                \n",
            "  inflating: s1/5.pgm                \n",
            "  inflating: s1/6.pgm                \n",
            "  inflating: s1/7.pgm                \n",
            "  inflating: s1/8.pgm                \n",
            "  inflating: s1/9.pgm                \n",
            "  inflating: s10/1.pgm               \n",
            "  inflating: s10/10.pgm              \n",
            "  inflating: s10/2.pgm               \n",
            "  inflating: s10/3.pgm               \n",
            "  inflating: s10/4.pgm               \n",
            "  inflating: s10/5.pgm               \n",
            "  inflating: s10/6.pgm               \n",
            "  inflating: s10/7.pgm               \n",
            "  inflating: s10/8.pgm               \n",
            "  inflating: s10/9.pgm               \n",
            "  inflating: s11/1.pgm               \n",
            "  inflating: s11/10.pgm              \n",
            "  inflating: s11/2.pgm               \n",
            "  inflating: s11/3.pgm               \n",
            "  inflating: s11/4.pgm               \n",
            "  inflating: s11/5.pgm               \n",
            "  inflating: s11/6.pgm               \n",
            "  inflating: s11/7.pgm               \n",
            "  inflating: s11/8.pgm               \n",
            "  inflating: s11/9.pgm               \n",
            "  inflating: s12/1.pgm               \n",
            "  inflating: s12/10.pgm              \n",
            "  inflating: s12/2.pgm               \n",
            "  inflating: s12/3.pgm               \n",
            "  inflating: s12/4.pgm               \n",
            "  inflating: s12/5.pgm               \n",
            "  inflating: s12/6.pgm               \n",
            "  inflating: s12/7.pgm               \n",
            "  inflating: s12/8.pgm               \n",
            "  inflating: s12/9.pgm               \n",
            "  inflating: s13/1.pgm               \n",
            "  inflating: s13/10.pgm              \n",
            "  inflating: s13/2.pgm               \n",
            "  inflating: s13/3.pgm               \n",
            "  inflating: s13/4.pgm               \n",
            "  inflating: s13/5.pgm               \n",
            "  inflating: s13/6.pgm               \n",
            "  inflating: s13/7.pgm               \n",
            "  inflating: s13/8.pgm               \n",
            "  inflating: s13/9.pgm               \n",
            "  inflating: s14/1.pgm               \n",
            "  inflating: s14/10.pgm              \n",
            "  inflating: s14/2.pgm               \n",
            "  inflating: s14/3.pgm               \n",
            "  inflating: s14/4.pgm               \n",
            "  inflating: s14/5.pgm               \n",
            "  inflating: s14/6.pgm               \n",
            "  inflating: s14/7.pgm               \n",
            "  inflating: s14/8.pgm               \n",
            "  inflating: s14/9.pgm               \n",
            "  inflating: s15/1.pgm               \n",
            "  inflating: s15/10.pgm              \n",
            "  inflating: s15/2.pgm               \n",
            "  inflating: s15/3.pgm               \n",
            "  inflating: s15/4.pgm               \n",
            "  inflating: s15/5.pgm               \n",
            "  inflating: s15/6.pgm               \n",
            "  inflating: s15/7.pgm               \n",
            "  inflating: s15/8.pgm               \n",
            "  inflating: s15/9.pgm               \n",
            "  inflating: s16/1.pgm               \n",
            "  inflating: s16/10.pgm              \n",
            "  inflating: s16/2.pgm               \n",
            "  inflating: s16/3.pgm               \n",
            "  inflating: s16/4.pgm               \n",
            "  inflating: s16/5.pgm               \n",
            "  inflating: s16/6.pgm               \n",
            "  inflating: s16/7.pgm               \n",
            "  inflating: s16/8.pgm               \n",
            "  inflating: s16/9.pgm               \n",
            "  inflating: s17/1.pgm               \n",
            "  inflating: s17/10.pgm              \n",
            "  inflating: s17/2.pgm               \n",
            "  inflating: s17/3.pgm               \n",
            "  inflating: s17/4.pgm               \n",
            "  inflating: s17/5.pgm               \n",
            "  inflating: s17/6.pgm               \n",
            "  inflating: s17/7.pgm               \n",
            "  inflating: s17/8.pgm               \n",
            "  inflating: s17/9.pgm               \n",
            "  inflating: s18/1.pgm               \n",
            "  inflating: s18/10.pgm              \n",
            "  inflating: s18/2.pgm               \n",
            "  inflating: s18/3.pgm               \n",
            "  inflating: s18/4.pgm               \n",
            "  inflating: s18/5.pgm               \n",
            "  inflating: s18/6.pgm               \n",
            "  inflating: s18/7.pgm               \n",
            "  inflating: s18/8.pgm               \n",
            "  inflating: s18/9.pgm               \n",
            "  inflating: s19/1.pgm               \n",
            "  inflating: s19/10.pgm              \n",
            "  inflating: s19/2.pgm               \n",
            "  inflating: s19/3.pgm               \n",
            "  inflating: s19/4.pgm               \n",
            "  inflating: s19/5.pgm               \n",
            "  inflating: s19/6.pgm               \n",
            "  inflating: s19/7.pgm               \n",
            "  inflating: s19/8.pgm               \n",
            "  inflating: s19/9.pgm               \n",
            "  inflating: s2/1.pgm                \n",
            "  inflating: s2/10.pgm               \n",
            "  inflating: s2/2.pgm                \n",
            "  inflating: s2/3.pgm                \n",
            "  inflating: s2/4.pgm                \n",
            "  inflating: s2/5.pgm                \n",
            "  inflating: s2/6.pgm                \n",
            "  inflating: s2/7.pgm                \n",
            "  inflating: s2/8.pgm                \n",
            "  inflating: s2/9.pgm                \n",
            "  inflating: s20/1.pgm               \n",
            "  inflating: s20/10.pgm              \n",
            "  inflating: s20/2.pgm               \n",
            "  inflating: s20/3.pgm               \n",
            "  inflating: s20/4.pgm               \n",
            "  inflating: s20/5.pgm               \n",
            "  inflating: s20/6.pgm               \n",
            "  inflating: s20/7.pgm               \n",
            "  inflating: s20/8.pgm               \n",
            "  inflating: s20/9.pgm               \n",
            "  inflating: s21/1.pgm               \n",
            "  inflating: s21/10.pgm              \n",
            "  inflating: s21/2.pgm               \n",
            "  inflating: s21/3.pgm               \n",
            "  inflating: s21/4.pgm               \n",
            "  inflating: s21/5.pgm               \n",
            "  inflating: s21/6.pgm               \n",
            "  inflating: s21/7.pgm               \n",
            "  inflating: s21/8.pgm               \n",
            "  inflating: s21/9.pgm               \n",
            "  inflating: s22/1.pgm               \n",
            "  inflating: s22/10.pgm              \n",
            "  inflating: s22/2.pgm               \n",
            "  inflating: s22/3.pgm               \n",
            "  inflating: s22/4.pgm               \n",
            "  inflating: s22/5.pgm               \n",
            "  inflating: s22/6.pgm               \n",
            "  inflating: s22/7.pgm               \n",
            "  inflating: s22/8.pgm               \n",
            "  inflating: s22/9.pgm               \n",
            "  inflating: s23/1.pgm               \n",
            "  inflating: s23/10.pgm              \n",
            "  inflating: s23/2.pgm               \n",
            "  inflating: s23/3.pgm               \n",
            "  inflating: s23/4.pgm               \n",
            "  inflating: s23/5.pgm               \n",
            "  inflating: s23/6.pgm               \n",
            "  inflating: s23/7.pgm               \n",
            "  inflating: s23/8.pgm               \n",
            "  inflating: s23/9.pgm               \n",
            "  inflating: s24/1.pgm               \n",
            "  inflating: s24/10.pgm              \n",
            "  inflating: s24/2.pgm               \n",
            "  inflating: s24/3.pgm               \n",
            "  inflating: s24/4.pgm               \n",
            "  inflating: s24/5.pgm               \n",
            "  inflating: s24/6.pgm               \n",
            "  inflating: s24/7.pgm               \n",
            "  inflating: s24/8.pgm               \n",
            "  inflating: s24/9.pgm               \n",
            "  inflating: s25/1.pgm               \n",
            "  inflating: s25/10.pgm              \n",
            "  inflating: s25/2.pgm               \n",
            "  inflating: s25/3.pgm               \n",
            "  inflating: s25/4.pgm               \n",
            "  inflating: s25/5.pgm               \n",
            "  inflating: s25/6.pgm               \n",
            "  inflating: s25/7.pgm               \n",
            "  inflating: s25/8.pgm               \n",
            "  inflating: s25/9.pgm               \n",
            "  inflating: s26/1.pgm               \n",
            "  inflating: s26/10.pgm              \n",
            "  inflating: s26/2.pgm               \n",
            "  inflating: s26/3.pgm               \n",
            "  inflating: s26/4.pgm               \n",
            "  inflating: s26/5.pgm               \n",
            "  inflating: s26/6.pgm               \n",
            "  inflating: s26/7.pgm               \n",
            "  inflating: s26/8.pgm               \n",
            "  inflating: s26/9.pgm               \n",
            "  inflating: s27/1.pgm               \n",
            "  inflating: s27/10.pgm              \n",
            "  inflating: s27/2.pgm               \n",
            "  inflating: s27/3.pgm               \n",
            "  inflating: s27/4.pgm               \n",
            "  inflating: s27/5.pgm               \n",
            "  inflating: s27/6.pgm               \n",
            "  inflating: s27/7.pgm               \n",
            "  inflating: s27/8.pgm               \n",
            "  inflating: s27/9.pgm               \n",
            "  inflating: s28/1.pgm               \n",
            "  inflating: s28/10.pgm              \n",
            "  inflating: s28/2.pgm               \n",
            "  inflating: s28/3.pgm               \n",
            "  inflating: s28/4.pgm               \n",
            "  inflating: s28/5.pgm               \n",
            "  inflating: s28/6.pgm               \n",
            "  inflating: s28/7.pgm               \n",
            "  inflating: s28/8.pgm               \n",
            "  inflating: s28/9.pgm               \n",
            "  inflating: s29/1.pgm               \n",
            "  inflating: s29/10.pgm              \n",
            "  inflating: s29/2.pgm               \n",
            "  inflating: s29/3.pgm               \n",
            "  inflating: s29/4.pgm               \n",
            "  inflating: s29/5.pgm               \n",
            "  inflating: s29/6.pgm               \n",
            "  inflating: s29/7.pgm               \n",
            "  inflating: s29/8.pgm               \n",
            "  inflating: s29/9.pgm               \n",
            "  inflating: s3/1.pgm                \n",
            "  inflating: s3/10.pgm               \n",
            "  inflating: s3/2.pgm                \n",
            "  inflating: s3/3.pgm                \n",
            "  inflating: s3/4.pgm                \n",
            "  inflating: s3/5.pgm                \n",
            "  inflating: s3/6.pgm                \n",
            "  inflating: s3/7.pgm                \n",
            "  inflating: s3/8.pgm                \n",
            "  inflating: s3/9.pgm                \n",
            "  inflating: s30/1.pgm               \n",
            "  inflating: s30/10.pgm              \n",
            "  inflating: s30/2.pgm               \n",
            "  inflating: s30/3.pgm               \n",
            "  inflating: s30/4.pgm               \n",
            "  inflating: s30/5.pgm               \n",
            "  inflating: s30/6.pgm               \n",
            "  inflating: s30/7.pgm               \n",
            "  inflating: s30/8.pgm               \n",
            "  inflating: s30/9.pgm               \n",
            "  inflating: s31/1.pgm               \n",
            "  inflating: s31/10.pgm              \n",
            "  inflating: s31/2.pgm               \n",
            "  inflating: s31/3.pgm               \n",
            "  inflating: s31/4.pgm               \n",
            "  inflating: s31/5.pgm               \n",
            "  inflating: s31/6.pgm               \n",
            "  inflating: s31/7.pgm               \n",
            "  inflating: s31/8.pgm               \n",
            "  inflating: s31/9.pgm               \n",
            "  inflating: s32/1.pgm               \n",
            "  inflating: s32/10.pgm              \n",
            "  inflating: s32/2.pgm               \n",
            "  inflating: s32/3.pgm               \n",
            "  inflating: s32/4.pgm               \n",
            "  inflating: s32/5.pgm               \n",
            "  inflating: s32/6.pgm               \n",
            "  inflating: s32/7.pgm               \n",
            "  inflating: s32/8.pgm               \n",
            "  inflating: s32/9.pgm               \n",
            "  inflating: s33/1.pgm               \n",
            "  inflating: s33/10.pgm              \n",
            "  inflating: s33/2.pgm               \n",
            "  inflating: s33/3.pgm               \n",
            "  inflating: s33/4.pgm               \n",
            "  inflating: s33/5.pgm               \n",
            "  inflating: s33/6.pgm               \n",
            "  inflating: s33/7.pgm               \n",
            "  inflating: s33/8.pgm               \n",
            "  inflating: s33/9.pgm               \n",
            "  inflating: s34/1.pgm               \n",
            "  inflating: s34/10.pgm              \n",
            "  inflating: s34/2.pgm               \n",
            "  inflating: s34/3.pgm               \n",
            "  inflating: s34/4.pgm               \n",
            "  inflating: s34/5.pgm               \n",
            "  inflating: s34/6.pgm               \n",
            "  inflating: s34/7.pgm               \n",
            "  inflating: s34/8.pgm               \n",
            "  inflating: s34/9.pgm               \n",
            "  inflating: s35/1.pgm               \n",
            "  inflating: s35/10.pgm              \n",
            "  inflating: s35/2.pgm               \n",
            "  inflating: s35/3.pgm               \n",
            "  inflating: s35/4.pgm               \n",
            "  inflating: s35/5.pgm               \n",
            "  inflating: s35/6.pgm               \n",
            "  inflating: s35/7.pgm               \n",
            "  inflating: s35/8.pgm               \n",
            "  inflating: s35/9.pgm               \n",
            "  inflating: s36/1.pgm               \n",
            "  inflating: s36/10.pgm              \n",
            "  inflating: s36/2.pgm               \n",
            "  inflating: s36/3.pgm               \n",
            "  inflating: s36/4.pgm               \n",
            "  inflating: s36/5.pgm               \n",
            "  inflating: s36/6.pgm               \n",
            "  inflating: s36/7.pgm               \n",
            "  inflating: s36/8.pgm               \n",
            "  inflating: s36/9.pgm               \n",
            "  inflating: s37/1.pgm               \n",
            "  inflating: s37/10.pgm              \n",
            "  inflating: s37/2.pgm               \n",
            "  inflating: s37/3.pgm               \n",
            "  inflating: s37/4.pgm               \n",
            "  inflating: s37/5.pgm               \n",
            "  inflating: s37/6.pgm               \n",
            "  inflating: s37/7.pgm               \n",
            "  inflating: s37/8.pgm               \n",
            "  inflating: s37/9.pgm               \n",
            "  inflating: s38/1.pgm               \n",
            "  inflating: s38/10.pgm              \n",
            "  inflating: s38/2.pgm               \n",
            "  inflating: s38/3.pgm               \n",
            "  inflating: s38/4.pgm               \n",
            "  inflating: s38/5.pgm               \n",
            "  inflating: s38/6.pgm               \n",
            "  inflating: s38/7.pgm               \n",
            "  inflating: s38/8.pgm               \n",
            "  inflating: s38/9.pgm               \n",
            "  inflating: s39/1.pgm               \n",
            "  inflating: s39/10.pgm              \n",
            "  inflating: s39/2.pgm               \n",
            "  inflating: s39/3.pgm               \n",
            "  inflating: s39/4.pgm               \n",
            "  inflating: s39/5.pgm               \n",
            "  inflating: s39/6.pgm               \n",
            "  inflating: s39/7.pgm               \n",
            "  inflating: s39/8.pgm               \n",
            "  inflating: s39/9.pgm               \n",
            "  inflating: s4/1.pgm                \n",
            "  inflating: s4/10.pgm               \n",
            "  inflating: s4/2.pgm                \n",
            "  inflating: s4/3.pgm                \n",
            "  inflating: s4/4.pgm                \n",
            "  inflating: s4/5.pgm                \n",
            "  inflating: s4/6.pgm                \n",
            "  inflating: s4/7.pgm                \n",
            "  inflating: s4/8.pgm                \n",
            "  inflating: s4/9.pgm                \n",
            "  inflating: s40/1.pgm               \n",
            "  inflating: s40/10.pgm              \n",
            "  inflating: s40/2.pgm               \n",
            "  inflating: s40/3.pgm               \n",
            "  inflating: s40/4.pgm               \n",
            "  inflating: s40/5.pgm               \n",
            "  inflating: s40/6.pgm               \n",
            "  inflating: s40/7.pgm               \n",
            "  inflating: s40/8.pgm               \n",
            "  inflating: s40/9.pgm               \n",
            "  inflating: s5/1.pgm                \n",
            "  inflating: s5/10.pgm               \n",
            "  inflating: s5/2.pgm                \n",
            "  inflating: s5/3.pgm                \n",
            "  inflating: s5/4.pgm                \n",
            "  inflating: s5/5.pgm                \n",
            "  inflating: s5/6.pgm                \n",
            "  inflating: s5/7.pgm                \n",
            "  inflating: s5/8.pgm                \n",
            "  inflating: s5/9.pgm                \n",
            "  inflating: s6/1.pgm                \n",
            "  inflating: s6/10.pgm               \n",
            "  inflating: s6/2.pgm                \n",
            "  inflating: s6/3.pgm                \n",
            "  inflating: s6/4.pgm                \n",
            "  inflating: s6/5.pgm                \n",
            "  inflating: s6/6.pgm                \n",
            "  inflating: s6/7.pgm                \n",
            "  inflating: s6/8.pgm                \n",
            "  inflating: s6/9.pgm                \n",
            "  inflating: s7/1.pgm                \n",
            "  inflating: s7/10.pgm               \n",
            "  inflating: s7/2.pgm                \n",
            "  inflating: s7/3.pgm                \n",
            "  inflating: s7/4.pgm                \n",
            "  inflating: s7/5.pgm                \n",
            "  inflating: s7/6.pgm                \n",
            "  inflating: s7/7.pgm                \n",
            "  inflating: s7/8.pgm                \n",
            "  inflating: s7/9.pgm                \n",
            "  inflating: s8/1.pgm                \n",
            "  inflating: s8/10.pgm               \n",
            "  inflating: s8/2.pgm                \n",
            "  inflating: s8/3.pgm                \n",
            "  inflating: s8/4.pgm                \n",
            "  inflating: s8/5.pgm                \n",
            "  inflating: s8/6.pgm                \n",
            "  inflating: s8/7.pgm                \n",
            "  inflating: s8/8.pgm                \n",
            "  inflating: s8/9.pgm                \n",
            "  inflating: s9/1.pgm                \n",
            "  inflating: s9/10.pgm               \n",
            "  inflating: s9/2.pgm                \n",
            "  inflating: s9/3.pgm                \n",
            "  inflating: s9/4.pgm                \n",
            "  inflating: s9/5.pgm                \n",
            "  inflating: s9/6.pgm                \n",
            "  inflating: s9/7.pgm                \n",
            "  inflating: s9/8.pgm                \n",
            "  inflating: s9/9.pgm                \n"
          ]
        }
      ]
    },
    {
      "cell_type": "code",
      "metadata": {
        "id": "KuV5EnxMZcNU"
      },
      "source": [
        "data =[]\n",
        "labels =[]\n",
        "training_data=[]\n",
        "training_labels=[]\n",
        "test_data=[]\n",
        "test_labels=[]"
      ],
      "execution_count": null,
      "outputs": []
    },
    {
      "cell_type": "markdown",
      "metadata": {
        "id": "RN5izJhahNlC"
      },
      "source": [
        "##*2. Generate the Data Matrix and the Label vector*"
      ]
    },
    {
      "cell_type": "code",
      "metadata": {
        "id": "FshrQNu9ZmQs"
      },
      "source": [
        "# Generate the Data Matrix and the Label vector\n",
        "\n",
        "def read_data():\n",
        "  id = 1\n",
        "  for id in range(1,41):\n",
        "    for count in range(1,11) :\n",
        "      image = Image.open('s'+str(id)+'/'+str(count)+'.pgm')\n",
        "      imgarr = img_to_array(image)\n",
        "      imgarr = np.resize(imgarr,(10304))\n",
        "      data.append(imgarr)\n",
        "      labels.append(id)"
      ],
      "execution_count": null,
      "outputs": []
    },
    {
      "cell_type": "markdown",
      "metadata": {
        "id": "sMnC_82khbM7"
      },
      "source": [
        "##*3. Split the Dataset into Training and Test sets*"
      ]
    },
    {
      "cell_type": "code",
      "metadata": {
        "id": "pinXDE-LZ7ED"
      },
      "source": [
        " # Split the Dataset into Training and Test sets\n",
        "\n",
        "def split_data():\n",
        "  for i in range(400):\n",
        "    if i%2==0:\n",
        "      test_data.append(data[i])\n",
        "      test_labels.append(labels[i])\n",
        "    else:\n",
        "      training_data.append(data[i])\n",
        "      training_labels.append(labels[i])"
      ],
      "execution_count": null,
      "outputs": []
    },
    {
      "cell_type": "code",
      "metadata": {
        "id": "S6oICyOYaL9u"
      },
      "source": [
        "## main split\n",
        "read_data()\n",
        "split_data()"
      ],
      "execution_count": null,
      "outputs": []
    },
    {
      "cell_type": "code",
      "metadata": {
        "colab": {
          "base_uri": "https://localhost:8080/"
        },
        "id": "F5InWeE7aVGs",
        "outputId": "1c25e033-2316-4d47-8da2-e8579ee5a4f5"
      },
      "source": [
        "print(len(data))\n",
        "print(len(test_data))"
      ],
      "execution_count": null,
      "outputs": [
        {
          "output_type": "stream",
          "name": "stdout",
          "text": [
            "400\n",
            "200\n"
          ]
        }
      ]
    },
    {
      "cell_type": "code",
      "metadata": {
        "id": "kca_HGBTcWhL"
      },
      "source": [
        "\n",
        "D_train=np.array(training_data)\n",
        "D_test=np.array(test_data)\n",
        "D_training_labels=np.array(training_labels)\n",
        "D_test_labels=np.array(test_labels)\n",
        "\n"
      ],
      "execution_count": null,
      "outputs": []
    },
    {
      "cell_type": "markdown",
      "metadata": {
        "id": "bLb0EaFChmrZ"
      },
      "source": [
        "##*4. Dimensionality Reduction using PCA*"
      ]
    },
    {
      "cell_type": "code",
      "metadata": {
        "id": "D-KDp1Ibc6g8"
      },
      "source": [
        "def Pca(data):\n",
        "  ## get cov \n",
        "  mean = np.mean(data, axis = 0)\n",
        "  Z = data - mean\n",
        "  covariance = (np.dot(Z.T,Z)) / Z.shape[0]\n",
        "  # get eigenvalues and vec\n",
        "  vals, vec = eigh(covariance)\n",
        "  # Sort eigenvalues\n",
        "  indices = np.abs(vals).argsort()[::-1]\n",
        "  eig_val = vals[indices]\n",
        "  # sort eigenvector across to eginvalues \n",
        "  eig_vec = vec[:,indices]\n",
        "  return eig_val, eig_vec"
      ],
      "execution_count": null,
      "outputs": []
    },
    {
      "cell_type": "code",
      "metadata": {
        "id": "HnlHg0sZc9wy"
      },
      "source": [
        " # find the projection matrix U.\n",
        "\n",
        "def getProjection (eig_val, eig_vec, D_train, alpha): \n",
        "  i = 0\n",
        "  U = []\n",
        "  sumeig = sum(eig_val)\n",
        "  current_sum = 0\n",
        "  # to get minimum number of eigenvectors which are good enough\n",
        "  for x in range(len(eig_val)):\n",
        "      if current_sum/sumeig < alpha:\n",
        "        current_sum = current_sum + eig_val[x]\n",
        "        i = i+1\n",
        "  Ur = eig_vec[:, 0 : i]\n",
        "\n",
        "  # Project the training set\n",
        "  A = Ur.T.dot(D_train.T)\n",
        "  A = A.T\n",
        "  return A, Ur"
      ],
      "execution_count": null,
      "outputs": []
    },
    {
      "cell_type": "markdown",
      "metadata": {
        "id": "hBMOypvch7d0"
      },
      "source": [
        "##*5. Hyper-parameter Tuning*"
      ]
    },
    {
      "cell_type": "code",
      "metadata": {
        "id": "D0zWeqd9eYYk"
      },
      "source": [
        "def proj_test (data, Ur):\n",
        "  # Project the test set\n",
        "  A = Ur.T.dot(data.T)\n",
        "  A = A.T\n",
        "  return A\n",
        " # Hyper-parameter Tuning\n",
        "def solve(eig_val, eig_vec, D_train, training_y, test_X, test_y):\n",
        "    alpha = [0.8, 0.85, 0.9, 0.95]\n",
        "    K = [1, 3, 5, 7]\n",
        "    # data_test = np.array(test_X)\n",
        "    for i in range(len(alpha)):\n",
        "        trianProj, Ur = getProjection(eig_val, eig_vec, D_train, alpha[i])\n",
        "        acc = []\n",
        "        testProj = proj_test(test_X, Ur)\n",
        "        for j in K:\n",
        "            knn = KNeighborsClassifier(n_neighbors=j)\n",
        "            knn.fit(trianProj, training_y)\n",
        "            acc.append(knn.score(testProj, test_y))\n",
        "\n",
        "        print(acc)\n",
        "        plt.plot(K, acc, label=alpha[i])\n",
        "        plt.legend()"
      ],
      "execution_count": null,
      "outputs": []
    },
    {
      "cell_type": "code",
      "metadata": {
        "id": "QENwax1Kedpi"
      },
      "source": [
        "# Calculate eigenvalues and eigenvectors\n",
        "eig_val, eig_vec = Pca(D_train)"
      ],
      "execution_count": null,
      "outputs": []
    },
    {
      "cell_type": "code",
      "metadata": {
        "id": "3rcsEGQLrdCg"
      },
      "source": [
        "\n",
        "# for one alpha value and K=1\n",
        "def solveAlpha1(eig_val, eig_vec, D_train, training_y, test_X, test_y, alpha_value):\n",
        "    K = 1\n",
        "    reduced_training, Ur = getProjection(eig_val, eig_vec, D_train, alpha_value)\n",
        "    acc = [] \n",
        "    reduced_testing = proj_test(test_X, Ur)\n",
        "    \n",
        "    knn = KNeighborsClassifier(n_neighbors=1)\n",
        "    knn.fit(reduced_training, training_y)\n",
        "    acc.append(knn.score(reduced_testing, test_y)*100)\n",
        "\n",
        "    print(\"Accuracy for alpha\",alpha_value , \"=\",acc[0],\"%\")\n",
        "    \n"
      ],
      "execution_count": null,
      "outputs": []
    },
    {
      "cell_type": "code",
      "metadata": {
        "colab": {
          "base_uri": "https://localhost:8080/"
        },
        "id": "HE4ZLcVarjKf",
        "outputId": "4e6f5fd0-4789-44e2-ce6d-e20f3f8500ca"
      },
      "source": [
        " # Accuracy for every value of alpha separately  for K=1\n",
        "\n",
        "solveAlpha1(eig_val, eig_vec, D_train, D_training_labels, D_test, D_test_labels, 0.80)\n",
        "solveAlpha1(eig_val, eig_vec, D_train, D_training_labels, D_test, D_test_labels, 0.85)\n",
        "solveAlpha1(eig_val, eig_vec, D_train, D_training_labels, D_test, D_test_labels, 0.90)\n",
        "solveAlpha1(eig_val, eig_vec, D_train, D_training_labels, D_test, D_test_labels, 0.95)\n",
        "\n",
        "# When alpha increases , Accuracy incrseases . Here the results is nearly the same"
      ],
      "execution_count": null,
      "outputs": [
        {
          "output_type": "stream",
          "name": "stdout",
          "text": [
            "Accuracy for alpha 0.8 = 93.0 %\n",
            "Accuracy for alpha 0.85 = 94.0 %\n",
            "Accuracy for alpha 0.9 = 94.5 %\n",
            "Accuracy for alpha 0.95 = 93.5 %\n"
          ]
        }
      ]
    },
    {
      "cell_type": "code",
      "metadata": {
        "id": "ZKk2-brkt9O3"
      },
      "source": [
        "\n",
        " # for one K value and different alphas\n",
        "def solveK(eig_val, eig_vec, D_train, training_y, test_X, test_y, K_value):\n",
        "    alpha = []\n",
        "    # data_test = np.array(test_X)\n",
        "    acc = []\n",
        "    i = 0.5\n",
        "    while (i < 1):\n",
        "        reduced_training, Ur = getProjection(eig_val, eig_vec, D_train, i)\n",
        "        reduced_testing = proj_test(test_X, Ur)\n",
        "        knn = KNeighborsClassifier(n_neighbors=K_value)\n",
        "        knn.fit(reduced_training, training_y)\n",
        "        acc.append(knn.score(reduced_testing, test_y))\n",
        "        alpha.append(i)\n",
        "        i = i + 0.05\n",
        "\n",
        "    print(acc)\n",
        "    plt.plot(alpha, acc)\n",
        "    plt.xlabel(\"alpha\")\n",
        "    plt.ylabel(\"acc\")\n",
        "    plt.title(\"relation at K= {}\".format(K_value))\n",
        "    plt.legend()"
      ],
      "execution_count": null,
      "outputs": []
    },
    {
      "cell_type": "code",
      "metadata": {
        "colab": {
          "base_uri": "https://localhost:8080/",
          "height": 330
        },
        "id": "IPQam7jJuVp_",
        "outputId": "a6f04589-8998-413c-a2f9-dee42078db67"
      },
      "source": [
        "solveK(eig_val, eig_vec, D_train, D_training_labels, D_test, D_test_labels,1)"
      ],
      "execution_count": null,
      "outputs": [
        {
          "output_type": "stream",
          "name": "stderr",
          "text": [
            "No handles with labels found to put in legend.\n"
          ]
        },
        {
          "output_type": "stream",
          "name": "stdout",
          "text": [
            "[0.865, 0.87, 0.905, 0.915, 0.92, 0.925, 0.93, 0.94, 0.945, 0.935]\n"
          ]
        },
        {
          "output_type": "display_data",
          "data": {
            "image/png": "[encoded data removed]",
            "text/plain": [
              "<Figure size 432x288 with 1 Axes>"
            ]
          },
          "metadata": {
            "needs_background": "light"
          }
        }
      ]
    },
    {
      "cell_type": "code",
      "metadata": {
        "id": "9zW59a1uoYbq"
      },
      "source": [
        " \n",
        " # for one alpha value and K=[1,3,5,7]\n",
        " def solveAlpha(eig_val, eig_vec, D_train, training_y, test_X, test_y, alpha_value):\n",
        "    K = [1,3,5,7]\n",
        "    reduced_training, Ur = getProjection(eig_val, eig_vec, D_train, alpha_value)\n",
        "    acc = [] \n",
        "    reduced_testing = proj_test(test_X, Ur)\n",
        "    for j in K:\n",
        "        knn = KNeighborsClassifier(n_neighbors=j)\n",
        "        knn.fit(reduced_training, training_y)\n",
        "        acc.append(knn.score(reduced_testing, test_y))\n",
        "\n",
        "    print(acc)\n",
        "    plt.plot(K, acc)\n",
        "    plt.xlabel(\"K\")\n",
        "    plt.ylabel(\"acc\")\n",
        "    plt.title(\"relation at alpha= {}\".format(alpha_value))\n",
        "\n",
        "    plt.legend()"
      ],
      "execution_count": null,
      "outputs": []
    },
    {
      "cell_type": "code",
      "metadata": {
        "colab": {
          "base_uri": "https://localhost:8080/",
          "height": 330
        },
        "id": "0t0h6t-xoYnY",
        "outputId": "02a7f135-c3f7-4caf-94d2-10ac2d05272a"
      },
      "source": [
        "\n",
        " solveAlpha(eig_val, eig_vec, D_train, D_training_labels, D_test, D_test_labels, 0.80)\n",
        " "
      ],
      "execution_count": null,
      "outputs": [
        {
          "output_type": "stream",
          "name": "stderr",
          "text": [
            "No handles with labels found to put in legend.\n"
          ]
        },
        {
          "output_type": "stream",
          "name": "stdout",
          "text": [
            "[0.93, 0.855, 0.805, 0.78]\n"
          ]
        },
        {
          "output_type": "display_data",
          "data": {
            "image/png": "[encoded data removed]",
            "text/plain": [
              "<Figure size 432x288 with 1 Axes>"
            ]
          },
          "metadata": {
            "needs_background": "light"
          }
        }
      ]
    },
    {
      "cell_type": "code",
      "metadata": {
        "colab": {
          "base_uri": "https://localhost:8080/",
          "height": 335
        },
        "id": "lSdP1DUYegKD",
        "outputId": "f46602a2-b0c3-444d-980c-fc109d897f7f"
      },
      "source": [
        "\n",
        "#Plot (or tabulate) the performance measure (accuracy) against the K value.\n",
        "solve(eig_val, eig_vec, D_train, D_training_labels, D_test, D_test_labels)"
      ],
      "execution_count": null,
      "outputs": [
        {
          "output_type": "stream",
          "name": "stdout",
          "text": [
            "[0.93, 0.855, 0.805, 0.78]\n",
            "[0.94, 0.855, 0.83, 0.775]\n",
            "[0.945, 0.85, 0.815, 0.755]\n",
            "[0.935, 0.845, 0.815, 0.74]\n"
          ]
        },
        {
          "output_type": "display_data",
          "data": {
            "image/png": "[encoded data removed]",
            "text/plain": [
              "<Figure size 432x288 with 1 Axes>"
            ]
          },
          "metadata": {
            "needs_background": "light"
          }
        }
      ]
    },
    {
      "cell_type": "markdown",
      "metadata": {
        "id": "T_6V5FmdiDGl"
      },
      "source": [
        "##*6. BONUS*"
      ]
    },
    {
      "cell_type": "code",
      "metadata": {
        "id": "-a_8MFT2jhDK"
      },
      "source": [
        "#Bounes Split\n",
        "read_data()\n",
        "training_data, test_data, training_labels, test_labels = train_test_split(data, labels, train_size=0.7)"
      ],
      "execution_count": null,
      "outputs": []
    },
    {
      "cell_type": "code",
      "metadata": {
        "colab": {
          "base_uri": "https://localhost:8080/"
        },
        "id": "MB3dDEVPjakG",
        "outputId": "0cb29076-81fe-45f0-f654-08678ebe423d"
      },
      "source": [
        "print(len(data))\n",
        "print(len(test_data))"
      ],
      "execution_count": null,
      "outputs": [
        {
          "output_type": "stream",
          "name": "stdout",
          "text": [
            "400\n",
            "120\n"
          ]
        }
      ]
    },
    {
      "cell_type": "code",
      "metadata": {
        "colab": {
          "base_uri": "https://localhost:8080/",
          "height": 336
        },
        "id": "W_TW_qdFkbFF",
        "outputId": "308d9887-b84c-48a0-87eb-dce283de87b1"
      },
      "source": [
        "#Plot (or tabulate) the performance measure (accuracy) against the K value.\n",
        "solve(eig_val, eig_vec, D_train, D_training_labels, D_test, D_test_labels)"
      ],
      "execution_count": null,
      "outputs": [
        {
          "output_type": "stream",
          "name": "stdout",
          "text": [
            "[0.9416666666666667, 0.9416666666666667, 0.8666666666666667, 0.825]\n",
            "[0.95, 0.9333333333333333, 0.875, 0.8166666666666667]\n",
            "[0.95, 0.925, 0.8666666666666667, 0.8166666666666667]\n",
            "[0.9416666666666667, 0.9166666666666666, 0.85, 0.8]\n"
          ]
        },
        {
          "output_type": "display_data",
          "data": {
            "image/png": "[encoded data removed]",
            "text/plain": [
              "<Figure size 432x288 with 1 Axes>"
            ]
          },
          "metadata": {
            "needs_background": "light"
          }
        }
      ]
    },
    {
      "cell_type": "code",
      "metadata": {
        "id": "XXkd3zd6lccR"
      },
      "source": [
        ""
      ],
      "execution_count": null,
      "outputs": []
    }
  ]
}